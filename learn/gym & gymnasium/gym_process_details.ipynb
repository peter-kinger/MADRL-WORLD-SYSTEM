{
 "cells": [
  {
   "cell_type": "markdown",
   "metadata": {},
   "source": [
    "## 归一化处理与反归一化处理"
   ]
  },
  {
   "cell_type": "markdown",
   "metadata": {},
   "source": [
    "不进行归一化处理"
   ]
  },
  {
   "cell_type": "code",
   "execution_count": 2,
   "metadata": {},
   "outputs": [
    {
     "name": "stdout",
     "output_type": "stream",
     "text": [
      "Episode 1: Total Reward without Normalization = 27.0\n",
      "Episode 2: Total Reward without Normalization = 25.0\n",
      "Episode 3: Total Reward without Normalization = 15.0\n",
      "Episode 4: Total Reward without Normalization = 16.0\n",
      "Episode 5: Total Reward without Normalization = 36.0\n"
     ]
    }
   ],
   "source": [
    "import gym\n",
    "import numpy as np\n",
    "\n",
    "env = gym.make(\"CartPole-v1\")\n",
    "obs = env.reset()\n",
    "\n",
    "for episode in range(5):\n",
    "    total_reward = 0\n",
    "    obs = env.reset()\n",
    "    done = False\n",
    "    while not done:\n",
    "        action = env.action_space.sample()  # 随机动作\n",
    "        state, reward, done, truncated, info  = env.step(action)\n",
    "        total_reward += reward\n",
    "    print(f\"Episode {episode + 1}: Total Reward without Normalization = {total_reward}\")\n",
    "\n",
    "env.close()"
   ]
  },
  {
   "cell_type": "markdown",
   "metadata": {},
   "source": [
    "进行状态归一化处理"
   ]
  },
  {
   "cell_type": "code",
   "execution_count": 3,
   "metadata": {},
   "outputs": [
    {
     "name": "stdout",
     "output_type": "stream",
     "text": [
      "Episode 1: Total Reward with Normalization = 13.0\n",
      "Episode 2: Total Reward with Normalization = 19.0\n",
      "Episode 3: Total Reward with Normalization = 17.0\n",
      "Episode 4: Total Reward with Normalization = 13.0\n",
      "Episode 5: Total Reward with Normalization = 16.0\n"
     ]
    }
   ],
   "source": [
    "import gym\n",
    "import numpy as np\n",
    "\n",
    "class NormalizedEnv(gym.ObservationWrapper):\n",
    "    def __init__(self, env):\n",
    "        super(NormalizedEnv, self).__init__(env)\n",
    "        self.mean = np.zeros(env.observation_space.shape)\n",
    "        self.std = np.ones(env.observation_space.shape)\n",
    "\n",
    "    def observation(self, observation):\n",
    "        return (observation - self.mean) / (self.std + 1e-8)\n",
    "\n",
    "env = NormalizedEnv(gym.make(\"CartPole-v1\"))\n",
    "\n",
    "for episode in range(5):\n",
    "    total_reward = 0\n",
    "    obs = env.reset()\n",
    "    done = False\n",
    "    while not done:\n",
    "        action = env.action_space.sample()  # 随机动作\n",
    "        state, reward, done, truncated, info = env.step(action)\n",
    "        total_reward += reward\n",
    "    print(f\"Episode {episode + 1}: Total Reward with Normalization = {total_reward}\")\n",
    "\n",
    "env.close()"
   ]
  },
  {
   "cell_type": "markdown",
   "metadata": {},
   "source": [
    "## state区别"
   ]
  },
  {
   "cell_type": "code",
   "execution_count": null,
   "metadata": {},
   "outputs": [],
   "source": []
  },
  {
   "cell_type": "markdown",
   "metadata": {},
   "source": [
    "## reward 区别"
   ]
  },
  {
   "cell_type": "markdown",
   "metadata": {},
   "source": [
    "## action 区别"
   ]
  },
  {
   "cell_type": "code",
   "execution_count": null,
   "metadata": {},
   "outputs": [],
   "source": []
  },
  {
   "cell_type": "code",
   "execution_count": null,
   "metadata": {},
   "outputs": [],
   "source": []
  }
 ],
 "metadata": {
  "kernelspec": {
   "display_name": "torch_env",
   "language": "python",
   "name": "python3"
  },
  "language_info": {
   "codemirror_mode": {
    "name": "ipython",
    "version": 3
   },
   "file_extension": ".py",
   "mimetype": "text/x-python",
   "name": "python",
   "nbconvert_exporter": "python",
   "pygments_lexer": "ipython3",
   "version": "3.9.18"
  }
 },
 "nbformat": 4,
 "nbformat_minor": 2
}
